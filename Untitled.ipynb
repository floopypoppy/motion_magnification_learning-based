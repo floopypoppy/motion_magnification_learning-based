{
 "cells": [
  {
   "cell_type": "code",
   "execution_count": null,
   "id": "9302ea31",
   "metadata": {},
   "outputs": [],
   "source": [
    "from magnet import MagNet\n",
    "from torchinfo import summary"
   ]
  },
  {
   "cell_type": "code",
   "execution_count": null,
   "id": "250447d7",
   "metadata": {},
   "outputs": [],
   "source": [
    "def count_parameters(model):\n",
    "    return sum(p.numel() for p in model.parameters() if p.requires_grad)"
   ]
  },
  {
   "cell_type": "code",
   "execution_count": null,
   "id": "7fdc5eea",
   "metadata": {},
   "outputs": [],
   "source": [
    "magnet = MagNet()\n",
    "print(count_parameters(magnet))\n",
    "print(summary(magnet, ((6,3,384,384), (6,3,384,384), (6,3,384,384), (6,3,384,384), (1,1))))"
   ]
  },
  {
   "cell_type": "code",
   "execution_count": 1,
   "id": "5c0627dd",
   "metadata": {},
   "outputs": [],
   "source": [
    "from config import Config\n",
    "from data import get_gen_ABC, cuda2numpy"
   ]
  },
  {
   "cell_type": "code",
   "execution_count": 2,
   "id": "9ccf26b3",
   "metadata": {},
   "outputs": [],
   "source": [
    "config = Config()\n",
    "data_loader = get_gen_ABC(config, mode='train')"
   ]
  },
  {
   "cell_type": "code",
   "execution_count": null,
   "id": "7b6d66ea",
   "metadata": {},
   "outputs": [],
   "source": [
    "from data import get_paths_ABC\n",
    "get_paths_ABC(config, 'train')[0]"
   ]
  },
  {
   "cell_type": "code",
   "execution_count": null,
   "id": "95df184e",
   "metadata": {},
   "outputs": [],
   "source": [
    "get_paths_ABC(config, 'train')"
   ]
  },
  {
   "cell_type": "code",
   "execution_count": 3,
   "id": "bad7126b",
   "metadata": {},
   "outputs": [
    {
     "data": {
      "text/plain": [
       "1000"
      ]
     },
     "execution_count": 3,
     "metadata": {},
     "output_type": "execute_result"
    }
   ],
   "source": [
    "data_loader.data_len"
   ]
  },
  {
   "cell_type": "code",
   "execution_count": null,
   "id": "d00d8d7a",
   "metadata": {},
   "outputs": [],
   "source": [
    "data_loader.batch_size"
   ]
  },
  {
   "cell_type": "code",
   "execution_count": null,
   "id": "3c312b95",
   "metadata": {},
   "outputs": [],
   "source": [
    "path = get_paths_ABC(config, 'train')"
   ]
  },
  {
   "cell_type": "code",
   "execution_count": null,
   "id": "7bdec6bf",
   "metadata": {},
   "outputs": [],
   "source": [
    "path"
   ]
  },
  {
   "cell_type": "code",
   "execution_count": 4,
   "id": "34466ae5",
   "metadata": {},
   "outputs": [
    {
     "data": {
      "text/plain": [
       "'D:/deepmag_data\\\\train/train_vid_frames/val_baby'"
      ]
     },
     "execution_count": 4,
     "metadata": {},
     "output_type": "execute_result"
    }
   ],
   "source": [
    "eval('config.dir_baby')"
   ]
  },
  {
   "cell_type": "code",
   "execution_count": null,
   "id": "d8a1a0f3",
   "metadata": {},
   "outputs": [],
   "source": []
  }
 ],
 "metadata": {
  "kernelspec": {
   "display_name": "Python [conda env:torch] *",
   "language": "python",
   "name": "conda-env-torch-py"
  },
  "language_info": {
   "codemirror_mode": {
    "name": "ipython",
    "version": 3
   },
   "file_extension": ".py",
   "mimetype": "text/x-python",
   "name": "python",
   "nbconvert_exporter": "python",
   "pygments_lexer": "ipython3",
   "version": "3.10.9"
  }
 },
 "nbformat": 4,
 "nbformat_minor": 5
}
