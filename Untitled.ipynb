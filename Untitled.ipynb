{
 "cells": [
  {
   "cell_type": "code",
   "execution_count": 5,
   "id": "0ad1c08b",
   "metadata": {},
   "outputs": [],
   "source": [
    "from data import get_gen_ABC"
   ]
  },
  {
   "cell_type": "code",
   "execution_count": 1,
   "id": "1177c17e",
   "metadata": {},
   "outputs": [],
   "source": [
    "from config import Config\n",
    "config = Config()"
   ]
  },
  {
   "cell_type": "code",
   "execution_count": null,
   "id": "99f114b8",
   "metadata": {},
   "outputs": [],
   "source": [
    "data_loader = get_gen_ABC(config, mode='train')"
   ]
  },
  {
   "cell_type": "code",
   "execution_count": null,
   "id": "6d1d7c0c",
   "metadata": {},
   "outputs": [],
   "source": [
    "config.save_dir"
   ]
  },
  {
   "cell_type": "code",
   "execution_count": null,
   "id": "6a883872",
   "metadata": {},
   "outputs": [],
   "source": [
    "data_loader.data_len"
   ]
  },
  {
   "cell_type": "code",
   "execution_count": null,
   "id": "140d65df",
   "metadata": {},
   "outputs": [],
   "source": [
    "batch_A, batch_B, batch_C, batch_M, batch_amp = data_loader.gen()"
   ]
  },
  {
   "cell_type": "code",
   "execution_count": null,
   "id": "f0c5eb2b",
   "metadata": {},
   "outputs": [],
   "source": [
    "batch_A.shape"
   ]
  },
  {
   "cell_type": "code",
   "execution_count": 2,
   "id": "5b4efa22",
   "metadata": {},
   "outputs": [
    {
     "data": {
      "text/plain": [
       "'weights_date0510'"
      ]
     },
     "execution_count": 2,
     "metadata": {},
     "output_type": "execute_result"
    }
   ],
   "source": [
    "config.save_dir"
   ]
  },
  {
   "cell_type": "code",
   "execution_count": 3,
   "id": "31e72e49",
   "metadata": {},
   "outputs": [
    {
     "data": {
      "text/plain": [
       "'results_date0510'"
      ]
     },
     "execution_count": 3,
     "metadata": {},
     "output_type": "execute_result"
    }
   ],
   "source": [
    "config.save_dir.replace('weights', 'results')"
   ]
  },
  {
   "cell_type": "code",
   "execution_count": 6,
   "id": "a48dfed9",
   "metadata": {},
   "outputs": [],
   "source": [
    "data_loader = get_gen_ABC(config, mode='test_on_baby')"
   ]
  },
  {
   "cell_type": "code",
   "execution_count": 8,
   "id": "fd33d23b",
   "metadata": {},
   "outputs": [
    {
     "data": {
      "text/plain": [
       "'D:/deepmag_data\\\\train/train_vid_frames/val_baby\\\\frameA\\\\000001.png'"
      ]
     },
     "execution_count": 8,
     "metadata": {},
     "output_type": "execute_result"
    }
   ],
   "source": [
    "data_loader.paths[0]"
   ]
  },
  {
   "cell_type": "code",
   "execution_count": 9,
   "id": "6b3b39ba",
   "metadata": {},
   "outputs": [],
   "source": [
    "import cv2 \n",
    "img = cv2.imread(data_loader.paths[0])"
   ]
  },
  {
   "cell_type": "code",
   "execution_count": 10,
   "id": "0af91be8",
   "metadata": {},
   "outputs": [
    {
     "data": {
      "text/plain": [
       "(544, 960, 3)"
      ]
     },
     "execution_count": 10,
     "metadata": {},
     "output_type": "execute_result"
    }
   ],
   "source": [
    "img.shape"
   ]
  },
  {
   "cell_type": "code",
   "execution_count": 11,
   "id": "e0e1e0ba",
   "metadata": {},
   "outputs": [
    {
     "data": {
      "text/plain": [
       "(3, 960, 544)"
      ]
     },
     "execution_count": 11,
     "metadata": {},
     "output_type": "execute_result"
    }
   ],
   "source": [
    "img.shape[::-1]"
   ]
  },
  {
   "cell_type": "code",
   "execution_count": 12,
   "id": "203c9eaa",
   "metadata": {},
   "outputs": [],
   "source": [
    "from skimage.io import imread"
   ]
  },
  {
   "cell_type": "code",
   "execution_count": 13,
   "id": "85b4bd35",
   "metadata": {},
   "outputs": [
    {
     "data": {
      "text/plain": [
       "array([[[  7,  20,  29],\n",
       "        [  7,  20,  29],\n",
       "        [  7,  20,  29],\n",
       "        ...,\n",
       "        [ 69,  89, 130],\n",
       "        [ 62,  82, 123],\n",
       "        [ 43,  63, 104]],\n",
       "\n",
       "       [[  7,  20,  29],\n",
       "        [  7,  20,  29],\n",
       "        [  7,  20,  29],\n",
       "        ...,\n",
       "        [ 68,  88, 129],\n",
       "        [ 56,  76, 117],\n",
       "        [ 35,  55,  96]],\n",
       "\n",
       "       [[  7,  20,  29],\n",
       "        [  7,  20,  29],\n",
       "        [  7,  20,  29],\n",
       "        ...,\n",
       "        [ 63,  83, 124],\n",
       "        [ 43,  64, 103],\n",
       "        [ 26,  47,  86]],\n",
       "\n",
       "       ...,\n",
       "\n",
       "       [[121, 156, 185],\n",
       "        [121, 156, 185],\n",
       "        [121, 156, 185],\n",
       "        ...,\n",
       "        [119, 154, 205],\n",
       "        [118, 153, 204],\n",
       "        [118, 153, 204]],\n",
       "\n",
       "       [[121, 156, 185],\n",
       "        [121, 156, 185],\n",
       "        [121, 156, 185],\n",
       "        ...,\n",
       "        [135, 165, 211],\n",
       "        [135, 165, 211],\n",
       "        [134, 164, 210]],\n",
       "\n",
       "       [[121, 156, 185],\n",
       "        [121, 156, 185],\n",
       "        [121, 156, 185],\n",
       "        ...,\n",
       "        [143, 173, 219],\n",
       "        [142, 172, 218],\n",
       "        [142, 172, 218]]], dtype=uint8)"
      ]
     },
     "execution_count": 13,
     "metadata": {},
     "output_type": "execute_result"
    }
   ],
   "source": [
    "img"
   ]
  },
  {
   "cell_type": "code",
   "execution_count": 15,
   "id": "6fa2190c",
   "metadata": {},
   "outputs": [
    {
     "data": {
      "text/plain": [
       "<matplotlib.image.AxesImage at 0x277eeeb8790>"
      ]
     },
     "execution_count": 15,
     "metadata": {},
     "output_type": "execute_result"
    },
    {
     "data": {
      "image/png": "[encoded data removed]",
      "text/plain": [
       "<Figure size 432x288 with 1 Axes>"
      ]
     },
     "metadata": {
      "needs_background": "light"
     },
     "output_type": "display_data"
    }
   ],
   "source": [
    "from matplotlib.pyplot import imshow\n",
    "imshow(img)"
   ]
  },
  {
   "cell_type": "code",
   "execution_count": 21,
   "id": "94294254",
   "metadata": {},
   "outputs": [
    {
     "data": {
      "text/plain": [
       "array([[[ True,  True,  True],\n",
       "        [ True,  True,  True],\n",
       "        [ True,  True,  True],\n",
       "        ...,\n",
       "        [ True,  True,  True],\n",
       "        [ True,  True,  True],\n",
       "        [ True,  True,  True]],\n",
       "\n",
       "       [[ True,  True,  True],\n",
       "        [ True,  True,  True],\n",
       "        [ True,  True,  True],\n",
       "        ...,\n",
       "        [ True,  True,  True],\n",
       "        [ True,  True,  True],\n",
       "        [ True,  True,  True]],\n",
       "\n",
       "       [[ True,  True,  True],\n",
       "        [ True,  True,  True],\n",
       "        [ True,  True,  True],\n",
       "        ...,\n",
       "        [ True,  True,  True],\n",
       "        [ True,  True,  True],\n",
       "        [ True,  True,  True]],\n",
       "\n",
       "       ...,\n",
       "\n",
       "       [[ True,  True,  True],\n",
       "        [ True,  True,  True],\n",
       "        [ True,  True,  True],\n",
       "        ...,\n",
       "        [ True,  True,  True],\n",
       "        [ True,  True,  True],\n",
       "        [ True,  True,  True]],\n",
       "\n",
       "       [[ True,  True,  True],\n",
       "        [ True,  True,  True],\n",
       "        [ True,  True,  True],\n",
       "        ...,\n",
       "        [ True,  True,  True],\n",
       "        [ True,  True,  True],\n",
       "        [ True,  True,  True]],\n",
       "\n",
       "       [[ True,  True,  True],\n",
       "        [ True,  True,  True],\n",
       "        [ True,  True,  True],\n",
       "        ...,\n",
       "        [ True,  True,  True],\n",
       "        [ True,  True,  True],\n",
       "        [ True,  True,  True]]])"
      ]
     },
     "execution_count": 21,
     "metadata": {},
     "output_type": "execute_result"
    }
   ],
   "source": [
    "import numpy as np\n",
    "path = data_loader.paths[0]\n",
    "img = cv2.cvtColor(imread(path).astype(np.uint8), cv2.COLOR_RGB2BGR)\n",
    "img2 = cv2.imread(path)\n",
    "img == img2"
   ]
  },
  {
   "cell_type": "code",
   "execution_count": 26,
   "id": "84419b18",
   "metadata": {},
   "outputs": [
    {
     "data": {
      "text/plain": [
       "numpy.uint8"
      ]
     },
     "execution_count": 26,
     "metadata": {},
     "output_type": "execute_result"
    }
   ],
   "source": [
    "type(img[0, 0, 1])"
   ]
  },
  {
   "cell_type": "code",
   "execution_count": 30,
   "id": "36f304d7",
   "metadata": {},
   "outputs": [
    {
     "data": {
      "text/plain": [
       "(544, 960, 3)"
      ]
     },
     "execution_count": 30,
     "metadata": {},
     "output_type": "execute_result"
    }
   ],
   "source": [
    "img.squeeze().shape"
   ]
  },
  {
   "cell_type": "code",
   "execution_count": 31,
   "id": "37a7f9b1",
   "metadata": {},
   "outputs": [],
   "source": [
    "a = np.random.rand(3, 4, 2)\n",
    "b = np.transpose(a, (1,2,0))"
   ]
  },
  {
   "cell_type": "code",
   "execution_count": 33,
   "id": "4dc9c631",
   "metadata": {},
   "outputs": [
    {
     "data": {
      "text/plain": [
       "(4, 2, 3)"
      ]
     },
     "execution_count": 33,
     "metadata": {},
     "output_type": "execute_result"
    }
   ],
   "source": [
    "b.shape"
   ]
  },
  {
   "cell_type": "code",
   "execution_count": 36,
   "id": "a2ec48b2",
   "metadata": {},
   "outputs": [],
   "source": [
    "vid_size = cv2.imread(data_loader.paths[0]).shape[:2][::-1]"
   ]
  },
  {
   "cell_type": "code",
   "execution_count": 37,
   "id": "8a25d4a4",
   "metadata": {},
   "outputs": [
    {
     "data": {
      "text/plain": [
       "(960, 544)"
      ]
     },
     "execution_count": 37,
     "metadata": {},
     "output_type": "execute_result"
    }
   ],
   "source": [
    "vid_size"
   ]
  },
  {
   "cell_type": "code",
   "execution_count": 38,
   "id": "afeabf68",
   "metadata": {},
   "outputs": [],
   "source": [
    "data_loader = get_gen_ABC(config, mode='test_on_'+'baby')\n",
    "batch_A, batch_B = data_loader.gen_test()"
   ]
  },
  {
   "cell_type": "code",
   "execution_count": 39,
   "id": "fcf76fef",
   "metadata": {},
   "outputs": [
    {
     "data": {
      "text/plain": [
       "torch.Size([1, 3, 544, 960])"
      ]
     },
     "execution_count": 39,
     "metadata": {},
     "output_type": "execute_result"
    }
   ],
   "source": [
    "batch_A.shape"
   ]
  },
  {
   "cell_type": "code",
   "execution_count": 40,
   "id": "c18e17d6",
   "metadata": {},
   "outputs": [],
   "source": [
    "a = np.arange(10)"
   ]
  },
  {
   "cell_type": "code",
   "execution_count": 41,
   "id": "dbd810e9",
   "metadata": {},
   "outputs": [
    {
     "data": {
      "text/plain": [
       "array([0, 1])"
      ]
     },
     "execution_count": 41,
     "metadata": {},
     "output_type": "execute_result"
    }
   ],
   "source": [
    "a[:2]"
   ]
  },
  {
   "cell_type": "code",
   "execution_count": 68,
   "id": "6214dc18",
   "metadata": {},
   "outputs": [],
   "source": [
    "img = data_loader.gen_test()[0]"
   ]
  },
  {
   "cell_type": "code",
   "execution_count": 69,
   "id": "3cb20f1b",
   "metadata": {},
   "outputs": [],
   "source": [
    "img = img.squeeze()\n",
    "img = img.cpu().detach().numpy()"
   ]
  },
  {
   "cell_type": "code",
   "execution_count": 70,
   "id": "ca4c8db3",
   "metadata": {},
   "outputs": [
    {
     "name": "stdout",
     "output_type": "stream",
     "text": [
      "1.0\n",
      "-1.0\n"
     ]
    }
   ],
   "source": [
    "print(img.max())\n",
    "print(img.min())"
   ]
  },
  {
   "cell_type": "code",
   "execution_count": 57,
   "id": "4dcef852",
   "metadata": {},
   "outputs": [
    {
     "name": "stdout",
     "output_type": "stream",
     "text": [
      "255\n",
      "0\n"
     ]
    }
   ],
   "source": [
    "img = cv2.cvtColor(imread(path).astype(np.uint8), cv2.COLOR_RGB2BGR)\n",
    "print(img.max())\n",
    "print(img.min())"
   ]
  },
  {
   "cell_type": "code",
   "execution_count": 58,
   "id": "6175ad4f",
   "metadata": {},
   "outputs": [],
   "source": [
    "img = cv2.cvtColor(img, cv2.COLOR_BGR2RGB)"
   ]
  },
  {
   "cell_type": "code",
   "execution_count": 64,
   "id": "ac5a6740",
   "metadata": {},
   "outputs": [],
   "source": [
    "from data import get_paths_ABC\n",
    "paths_A = get_paths_ABC(config, 'test_on_baby')[0]"
   ]
  },
  {
   "cell_type": "code",
   "execution_count": 66,
   "id": "0351f663",
   "metadata": {},
   "outputs": [],
   "source": [
    "from data import load_unit\n",
    "unit = load_unit(paths_A[0])"
   ]
  },
  {
   "cell_type": "code",
   "execution_count": 72,
   "id": "931cf5aa",
   "metadata": {},
   "outputs": [],
   "source": [
    "from skimage.util import random_noise\n",
    "p_img = random_noise(unit, mode='poisson')"
   ]
  },
  {
   "cell_type": "code",
   "execution_count": 76,
   "id": "8b9420a6",
   "metadata": {},
   "outputs": [
    {
     "data": {
      "text/plain": [
       "[1, 3, 1, 2, 4]"
      ]
     },
     "execution_count": 76,
     "metadata": {},
     "output_type": "execute_result"
    }
   ],
   "source": [
    "a = [1, 2, 4]\n",
    "b = [1, 3]\n",
    "b = b + a\n",
    "b"
   ]
  },
  {
   "cell_type": "code",
   "execution_count": 81,
   "id": "41de503e",
   "metadata": {},
   "outputs": [
    {
     "data": {
      "text/plain": [
       "torch.Size([1, 3, 544, 960])"
      ]
     },
     "execution_count": 81,
     "metadata": {},
     "output_type": "execute_result"
    }
   ],
   "source": [
    "data_loader.gen_test()[0].shape"
   ]
  },
  {
   "cell_type": "code",
   "execution_count": 82,
   "id": "6492b1df",
   "metadata": {},
   "outputs": [],
   "source": [
    "img = cv2.imread(path)"
   ]
  },
  {
   "cell_type": "code",
   "execution_count": 83,
   "id": "929b57c1",
   "metadata": {},
   "outputs": [
    {
     "data": {
      "text/plain": [
       "(544, 960, 3)"
      ]
     },
     "execution_count": 83,
     "metadata": {},
     "output_type": "execute_result"
    }
   ],
   "source": [
    "img.shape"
   ]
  },
  {
   "cell_type": "code",
   "execution_count": 84,
   "id": "a94d53be",
   "metadata": {},
   "outputs": [
    {
     "data": {
      "text/plain": [
       "510.0"
      ]
     },
     "execution_count": 84,
     "metadata": {},
     "output_type": "execute_result"
    }
   ],
   "source": [
    "544*960/1024."
   ]
  },
  {
   "cell_type": "code",
   "execution_count": 88,
   "id": "52a9b177",
   "metadata": {},
   "outputs": [
    {
     "data": {
      "text/plain": [
       "False"
      ]
     },
     "execution_count": 88,
     "metadata": {},
     "output_type": "execute_result"
    }
   ],
   "source": [
    "# import os\n",
    "'lassg' in 'glass'"
   ]
  },
  {
   "cell_type": "code",
   "execution_count": null,
   "id": "9302ea31",
   "metadata": {},
   "outputs": [],
   "source": []
  }
 ],
 "metadata": {
  "kernelspec": {
   "display_name": "Python 3",
   "language": "python",
   "name": "python3"
  },
  "language_info": {
   "codemirror_mode": {
    "name": "ipython",
    "version": 3
   },
   "file_extension": ".py",
   "mimetype": "text/x-python",
   "name": "python",
   "nbconvert_exporter": "python",
   "pygments_lexer": "ipython3",
   "version": "3.8.8"
  }
 },
 "nbformat": 4,
 "nbformat_minor": 5
}
